{
 "cells": [
  {
   "cell_type": "code",
   "execution_count": 1,
   "id": "0d1c62b9-0a3f-48ee-8573-662970d07af8",
   "metadata": {},
   "outputs": [
    {
     "name": "stdout",
     "output_type": "stream",
     "text": [
      "[2002, 2009, 2016, 2023, 2037, 2044, 2051, 2058, 2072, 2079, 2086, 2093, 2107, 2114, 2121, 2128, 2142, 2149, 2156, 2163, 2177, 2184, 2191, 2198, 2212, 2219, 2226, 2233, 2247, 2254, 2261, 2268, 2282, 2289, 2296, 2303, 2317, 2324, 2331, 2338, 2352, 2359, 2366, 2373, 2387, 2394, 2401, 2408, 2422, 2429, 2436, 2443, 2457, 2464, 2471, 2478, 2492, 2499, 2506, 2513, 2527, 2534, 2541, 2548, 2562, 2569, 2576, 2583, 2597, 2604, 2611, 2618, 2632, 2639, 2646, 2653, 2667, 2674, 2681, 2688, 2702, 2709, 2716, 2723, 2737, 2744, 2751, 2758, 2772, 2779, 2786, 2793, 2807, 2814, 2821, 2828, 2842, 2849, 2856, 2863, 2877, 2884, 2891, 2898, 2912, 2919, 2926, 2933, 2947, 2954, 2961, 2968, 2982, 2989, 2996, 3003, 3017, 3024, 3031, 3038, 3052, 3059, 3066, 3073, 3087, 3094, 3101, 3108, 3122, 3129, 3136, 3143, 3157, 3164, 3171, 3178, 3192, 3199]\n"
     ]
    }
   ],
   "source": [
    "import numpy as np \n",
    "import math \n",
    "numbers = [ num for num in range(2000,3201) if num % 7 == 0 and num %5 !=0] \n",
    "print(numbers)"
   ]
  },
  {
   "cell_type": "code",
   "execution_count": 3,
   "id": "30726a29-c402-45a5-a1bb-f2a2ad59939b",
   "metadata": {},
   "outputs": [
    {
     "name": "stdout",
     "output_type": "stream",
     "text": [
      "Factirial of 5= 120\n"
     ]
    }
   ],
   "source": [
    "def factorial(n):\n",
    "    if n==0:\n",
    "        return 1\n",
    "    else:\n",
    "        return n* factorial(n-1)\n",
    "result = factorial(5)\n",
    "print (\"Factirial of 5=\", result)\n",
    "     "
   ]
  },
  {
   "cell_type": "code",
   "execution_count": 7,
   "id": "c555b47d-e1b4-467d-8e6f-98f0cbad5a4a",
   "metadata": {},
   "outputs": [
    {
     "name": "stdout",
     "output_type": "stream",
     "text": [
      "{1: 1, 2: 4, 3: 9, 4: 16, 5: 25, 6: 36, 7: 49}\n"
     ]
    }
   ],
   "source": [
    "n = 7\n",
    "square_dict = {i: i*i for i in range(1,n+1)}\n",
    "print (square_dict)"
   ]
  },
  {
   "cell_type": "code",
   "execution_count": 9,
   "id": "a95f1d41-eba3-4159-9fa0-f68917c53738",
   "metadata": {},
   "outputs": [
    {
     "name": "stdout",
     "output_type": "stream",
     "text": [
      "ktten\n"
     ]
    }
   ],
   "source": [
    "def missing_char(word, n):\n",
    "    return word[:n] + word[n+1:]\n",
    "result = missing_char('kitten', 1)\n",
    "print(result)"
   ]
  },
  {
   "cell_type": "code",
   "execution_count": 11,
   "id": "7c92ec11-b753-483b-96ec-07db06440767",
   "metadata": {},
   "outputs": [
    {
     "name": "stdout",
     "output_type": "stream",
     "text": [
      "Original array elements: [[0 1]\n",
      " [2 3]\n",
      " [4 5]]\n",
      "Array to list: [[0, 1], [2, 3], [4, 5]]\n"
     ]
    }
   ],
   "source": [
    "array = np.array([[0, 1], [2, 3], [4, 5]])\n",
    "list_structure = array.tolist()\n",
    "print(\"Original array elements:\", array)\n",
    "print(\"Array to list:\", list_structure)"
   ]
  },
  {
   "cell_type": "code",
   "execution_count": 13,
   "id": "48427d4a-690e-41f1-9429-131852d722ad",
   "metadata": {},
   "outputs": [
    {
     "name": "stdout",
     "output_type": "stream",
     "text": [
      "Covariance matrix of the arrays: [[ 1. -1.]\n",
      " [-1.  1.]]\n"
     ]
    }
   ],
   "source": [
    "array1 = np.array([0, 1, 2])\n",
    "array2 = np.array([2, 1, 0])\n",
    "covariance_matrix = np.cov(array1, array2)\n",
    "print(\"Covariance matrix of the arrays:\", covariance_matrix)"
   ]
  },
  {
   "cell_type": "code",
   "execution_count": 15,
   "id": "61bc5067-6b06-4095-9933-32f836d74cd7",
   "metadata": {},
   "outputs": [
    {
     "name": "stdout",
     "output_type": "stream",
     "text": [
      "[18, 22, 24]\n"
     ]
    }
   ],
   "source": [
    "C = 50\n",
    "H = 30\n",
    "D = [100, 150, 180]\n",
    "\n",
    "results = [round(math.sqrt((2 * C * d) / H)) for d in D]\n",
    "print(results)"
   ]
  },
  {
   "cell_type": "code",
   "execution_count": null,
   "id": "df508101-6679-4ae4-a08e-f726d8fc7933",
   "metadata": {},
   "outputs": [],
   "source": []
  }
 ],
 "metadata": {
  "kernelspec": {
   "display_name": "anaconda-panel-2023.05-py310",
   "language": "python",
   "name": "conda-env-anaconda-panel-2023.05-py310-py"
  },
  "language_info": {
   "codemirror_mode": {
    "name": "ipython",
    "version": 3
   },
   "file_extension": ".py",
   "mimetype": "text/x-python",
   "name": "python",
   "nbconvert_exporter": "python",
   "pygments_lexer": "ipython3",
   "version": "3.11.5"
  }
 },
 "nbformat": 4,
 "nbformat_minor": 5
}
